{
 "cells": [
  {
   "cell_type": "code",
   "execution_count": 5,
   "source": [
    "import sys"
   ],
   "outputs": [],
   "metadata": {}
  },
  {
   "cell_type": "code",
   "execution_count": 9,
   "source": [
    "\"\"\"\r\n",
    "instructions:\r\n",
    "Enter numbers from (1-9) to place the sign\r\n",
    "Player1 will play sign X.\r\n",
    "\"\"\"\r\n",
    "\r\n",
    "sign = []\r\n",
    "\r\n",
    "for i in range(9):\r\n",
    "  sign.append(' ')\r\n",
    "\r\n",
    "\r\n",
    "def print_board(sign):\r\n",
    "  board = f\"\"\"\r\n",
    "\r\n",
    "   {sign[0]} | {sign[1]} | {sign[2]}\r\n",
    "  ---|---|---\r\n",
    "   {sign[3]} | {sign[4]} | {sign[5]}\r\n",
    "  ---|---|---\r\n",
    "   {sign[6]} | {sign[7]} | {sign[8]}\r\n",
    "\r\n",
    "  \"\"\"\r\n",
    "  print(board)\r\n",
    "\r\n"
   ],
   "outputs": [],
   "metadata": {}
  },
  {
   "cell_type": "code",
   "execution_count": 10,
   "source": [
    "index = []\r\n",
    "def take_input(player_name):\r\n",
    "  while True:\r\n",
    "    x = int(input(f'{player_name}: '))\r\n",
    "    x -= 1\r\n",
    "    if 0 <= x < 10:\r\n",
    "      if x in index:\r\n",
    "        print('This place is reserved.')\r\n",
    "        continue\r\n",
    "      index.append(x)  \r\n",
    "      return x\r\n",
    "    print('Please Enter number between 1-9')\r\n"
   ],
   "outputs": [],
   "metadata": {
    "code_folding": []
   }
  },
  {
   "cell_type": "code",
   "execution_count": 11,
   "source": [
    "def result_calculation(player_one, player_two):\r\n",
    " if sign[0] == sign[1] == sign[2] == 'X' or sign[1] == sign[4] == sign[7] == 'X' or sign[0] == sign[4] == sign[8] == 'X' or sign[2] == sign[5] == sign[8] == 'X' or sign[3] == sign[4] == sign[5] == 'X' or sign[2] == sign[4] == sign[6] == 'X' or sign[6] == sign[7] == sign[8] == 'X' or sign[0] == sign[3] == sign[6] == 'X' :\r\n",
    "    print(f'the player {player_one} You WON Congratulation')\r\n",
    "    sys.exit('Thank you The game ended') \r\n",
    " elif sign[0] == sign[1] == sign[2] == 'O' or sign[1] == sign[4] == sign[7] == 'O' or sign[0] == sign[4] == sign[8] == 'O' or sign[2] == sign[5] == sign[8] == 'O' or sign[3] == sign[4] == sign[5] == 'O' or sign[2] == sign[4] == sign[6] == 'O' or sign[6] == sign[7] == sign[8] == 'O' or sign[0] == sign[3] == sign[6] == 'O' :\r\n",
    "    print(f'the player {player_two} You WON Congratulation')\r\n",
    "    sys.exit('Thank you The game ended')\r\n",
    " else:\r\n",
    "    return"
   ],
   "outputs": [],
   "metadata": {}
  },
  {
   "cell_type": "code",
   "execution_count": 12,
   "source": [
    "def main():\r\n",
    "  print(\"tic tac toe  created by abdullah \")\r\n",
    "  player_one = input(\"Enter player 1 name: \")\r\n",
    "  player_two = input(\"Enter player 2 name: \")\r\n",
    "  print(f\"the player {player_one} sign is  X\")\r\n",
    "  print(f\"the player {player_two} sign is  O\")\r\n",
    "  input(\"Enter any key to start the game: \")\r\n",
    "  print_board(sign)\r\n",
    "  for i in range(0,9):\r\n",
    "    if i%2 == 0:\r\n",
    "      index2 = take_input(player_one)\r\n",
    "      sign[index2] = 'X'\r\n",
    "    else:\r\n",
    "      index2 = take_input(player_two)\r\n",
    "      sign[index2] = 'O'\r\n",
    "\r\n",
    "    print_board(sign)\r\n",
    "    result_calculation( player_one, player_two)\r\n",
    "    \r\n",
    "  \r\n",
    "  print(\"The game is over and no one wins Play Again\")\r\n",
    "    \r\n",
    "    \r\n",
    "    \r\n",
    "main()"
   ],
   "outputs": [
    {
     "output_type": "stream",
     "name": "stdout",
     "text": [
      "tic tac toe  created by abdullah \n",
      "the player abdala sign is  X\n",
      "the player sabry sign is  O\n",
      "\n",
      "\n",
      "     |   |  \n",
      "  ---|---|---\n",
      "     |   |  \n",
      "  ---|---|---\n",
      "     |   |  \n",
      "\n",
      "  \n"
     ]
    },
    {
     "output_type": "error",
     "ename": "ValueError",
     "evalue": "invalid literal for int() with base 10: ' '",
     "traceback": [
      "\u001b[1;31m---------------------------------------------------------------------------\u001b[0m",
      "\u001b[1;31mValueError\u001b[0m                                Traceback (most recent call last)",
      "\u001b[1;32m<ipython-input-12-c29d8365b29c>\u001b[0m in \u001b[0;36m<module>\u001b[1;34m\u001b[0m\n\u001b[0;32m     23\u001b[0m \u001b[1;33m\u001b[0m\u001b[0m\n\u001b[0;32m     24\u001b[0m \u001b[1;33m\u001b[0m\u001b[0m\n\u001b[1;32m---> 25\u001b[1;33m \u001b[0mmain\u001b[0m\u001b[1;33m(\u001b[0m\u001b[1;33m)\u001b[0m\u001b[1;33m\u001b[0m\u001b[1;33m\u001b[0m\u001b[0m\n\u001b[0m",
      "\u001b[1;32m<ipython-input-12-c29d8365b29c>\u001b[0m in \u001b[0;36mmain\u001b[1;34m()\u001b[0m\n\u001b[0;32m      9\u001b[0m   \u001b[1;32mfor\u001b[0m \u001b[0mi\u001b[0m \u001b[1;32min\u001b[0m \u001b[0mrange\u001b[0m\u001b[1;33m(\u001b[0m\u001b[1;36m0\u001b[0m\u001b[1;33m,\u001b[0m\u001b[1;36m9\u001b[0m\u001b[1;33m)\u001b[0m\u001b[1;33m:\u001b[0m\u001b[1;33m\u001b[0m\u001b[1;33m\u001b[0m\u001b[0m\n\u001b[0;32m     10\u001b[0m     \u001b[1;32mif\u001b[0m \u001b[0mi\u001b[0m\u001b[1;33m%\u001b[0m\u001b[1;36m2\u001b[0m \u001b[1;33m==\u001b[0m \u001b[1;36m0\u001b[0m\u001b[1;33m:\u001b[0m\u001b[1;33m\u001b[0m\u001b[1;33m\u001b[0m\u001b[0m\n\u001b[1;32m---> 11\u001b[1;33m       \u001b[0mindex2\u001b[0m \u001b[1;33m=\u001b[0m \u001b[0mtake_input\u001b[0m\u001b[1;33m(\u001b[0m\u001b[0mplayer_one\u001b[0m\u001b[1;33m)\u001b[0m\u001b[1;33m\u001b[0m\u001b[1;33m\u001b[0m\u001b[0m\n\u001b[0m\u001b[0;32m     12\u001b[0m       \u001b[0msign\u001b[0m\u001b[1;33m[\u001b[0m\u001b[0mindex2\u001b[0m\u001b[1;33m]\u001b[0m \u001b[1;33m=\u001b[0m \u001b[1;34m'X'\u001b[0m\u001b[1;33m\u001b[0m\u001b[1;33m\u001b[0m\u001b[0m\n\u001b[0;32m     13\u001b[0m     \u001b[1;32melse\u001b[0m\u001b[1;33m:\u001b[0m\u001b[1;33m\u001b[0m\u001b[1;33m\u001b[0m\u001b[0m\n",
      "\u001b[1;32m<ipython-input-10-0c4ee48d2bb9>\u001b[0m in \u001b[0;36mtake_input\u001b[1;34m(player_name)\u001b[0m\n\u001b[0;32m      2\u001b[0m \u001b[1;32mdef\u001b[0m \u001b[0mtake_input\u001b[0m\u001b[1;33m(\u001b[0m\u001b[0mplayer_name\u001b[0m\u001b[1;33m)\u001b[0m\u001b[1;33m:\u001b[0m\u001b[1;33m\u001b[0m\u001b[1;33m\u001b[0m\u001b[0m\n\u001b[0;32m      3\u001b[0m   \u001b[1;32mwhile\u001b[0m \u001b[1;32mTrue\u001b[0m\u001b[1;33m:\u001b[0m\u001b[1;33m\u001b[0m\u001b[1;33m\u001b[0m\u001b[0m\n\u001b[1;32m----> 4\u001b[1;33m     \u001b[0mx\u001b[0m \u001b[1;33m=\u001b[0m \u001b[0mint\u001b[0m\u001b[1;33m(\u001b[0m\u001b[0minput\u001b[0m\u001b[1;33m(\u001b[0m\u001b[1;34mf'{player_name}: '\u001b[0m\u001b[1;33m)\u001b[0m\u001b[1;33m)\u001b[0m\u001b[1;33m\u001b[0m\u001b[1;33m\u001b[0m\u001b[0m\n\u001b[0m\u001b[0;32m      5\u001b[0m     \u001b[0mx\u001b[0m \u001b[1;33m-=\u001b[0m \u001b[1;36m1\u001b[0m\u001b[1;33m\u001b[0m\u001b[1;33m\u001b[0m\u001b[0m\n\u001b[0;32m      6\u001b[0m     \u001b[1;32mif\u001b[0m \u001b[1;36m0\u001b[0m \u001b[1;33m<=\u001b[0m \u001b[0mx\u001b[0m \u001b[1;33m<\u001b[0m \u001b[1;36m10\u001b[0m\u001b[1;33m:\u001b[0m\u001b[1;33m\u001b[0m\u001b[1;33m\u001b[0m\u001b[0m\n",
      "\u001b[1;31mValueError\u001b[0m: invalid literal for int() with base 10: ' '"
     ]
    }
   ],
   "metadata": {}
  },
  {
   "cell_type": "code",
   "execution_count": null,
   "source": [],
   "outputs": [],
   "metadata": {}
  }
 ],
 "metadata": {
  "kernelspec": {
   "name": "python3",
   "display_name": "Python 3.8.8 64-bit ('base': conda)"
  },
  "language_info": {
   "codemirror_mode": {
    "name": "ipython",
    "version": 3
   },
   "file_extension": ".py",
   "mimetype": "text/x-python",
   "name": "python",
   "nbconvert_exporter": "python",
   "pygments_lexer": "ipython3",
   "version": "3.8.8"
  },
  "interpreter": {
   "hash": "18fe6ac8b6784932ff99c8d2a63f58f7b09915667d4582d06fa7e28cf23bca66"
  }
 },
 "nbformat": 4,
 "nbformat_minor": 5
}