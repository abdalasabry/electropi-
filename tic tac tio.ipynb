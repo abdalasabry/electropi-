{
 "cells": [
  {
   "cell_type": "code",
   "execution_count": 1,
   "id": "9fcac717",
   "metadata": {},
   "outputs": [],
   "source": [
    "import sys"
   ]
  },
  {
   "cell_type": "code",
   "execution_count": 2,
   "id": "90ac7899",
   "metadata": {},
   "outputs": [],
   "source": [
    "\"\"\"\n",
    "instructions:\n",
    "Enter numbers from (1-9) to place the sign\n",
    "Player1 will play sign X.\n",
    "\"\"\"\n",
    "\n",
    "sign = []\n",
    "\n",
    "for i in range(9):\n",
    "  sign.append(' ')\n",
    "\n",
    "\n",
    "def print_board(sign):\n",
    "  board = f\"\"\"\n",
    "\n",
    "   {sign[0]} | {sign[1]} | {sign[2]}\n",
    "  ---|---|---\n",
    "   {sign[3]} | {sign[4]} | {sign[5]}\n",
    "  ---|---|---\n",
    "   {sign[6]} | {sign[7]} | {sign[8]}\n",
    "\n",
    "  \"\"\"\n",
    "  print(board)\n",
    "\n"
   ]
  },
  {
   "cell_type": "code",
   "execution_count": 4,
   "id": "57a5c902",
   "metadata": {
    "code_folding": []
   },
   "outputs": [],
   "source": [
    "index = []\n",
    "def take_input(player_name):\n",
    "  while True:\n",
    "    x = int(input(f'{player_name}: '))\n",
    "    x -= 1\n",
    "    if 0 <= x < 10:\n",
    "      if x in index:\n",
    "        print('This place is reserved.')\n",
    "        continue\n",
    "      index.append(x)  \n",
    "      return x\n",
    "    print('Please Enter number between 1-9')\n"
   ]
  },
  {
   "cell_type": "code",
   "execution_count": 5,
   "id": "a7b65743",
   "metadata": {},
   "outputs": [],
   "source": [
    "def result_calculation(player_one, player_two):\n",
    " if sign[0] == sign[1] == sign[2] == 'X' or sign[1] == sign[4] == sign[7] == 'X' or sign[0] == sign[4] == sign[8] == 'X' or sign[2] == sign[5] == sign[8] == 'X' or sign[3] == sign[4] == sign[5] == 'X' or sign[2] == sign[4] == sign[6] == 'X' or sign[6] == sign[7] == sign[8] == 'X' or sign[0] == sign[3] == sign[6] == 'X' :\n",
    "    print(f'the player {player_one} You WON Congratulation')\n",
    "    sys.exit('Thank you The game ended') \n",
    " elif sign[0] == sign[1] == sign[2] == 'O' or sign[1] == sign[4] == sign[7] == 'O' or sign[0] == sign[4] == sign[8] == 'O' or sign[2] == sign[5] == sign[8] == 'O' or sign[3] == sign[4] == sign[5] == 'O' or sign[2] == sign[4] == sign[6] == 'O' or sign[6] == sign[7] == sign[8] == 'O' or sign[0] == sign[3] == sign[6] == 'O' :\n",
    "    print(f'the player {player_two} You WON Congratulation')\n",
    "    sys.exit('Thank you The game ended')\n",
    " else:\n",
    "    return"
   ]
  },
  {
   "cell_type": "code",
   "execution_count": 6,
   "id": "92e5f9b3",
   "metadata": {},
   "outputs": [
    {
     "name": "stdout",
     "output_type": "stream",
     "text": [
      "tic tac toe  created by abdullah \n",
      "Enter player 1 name: abdullah\n",
      "Enter player 2 name: sabry\n",
      "the player abdullah sign is  X\n",
      "the player sabry sign is  O\n",
      "Enter any key to start the game: 1\n",
      "\n",
      "\n",
      "     |   |  \n",
      "  ---|---|---\n",
      "     |   |  \n",
      "  ---|---|---\n",
      "     |   |  \n",
      "\n",
      "  \n",
      "abdullah: 2\n",
      "\n",
      "\n",
      "     | X |  \n",
      "  ---|---|---\n",
      "     |   |  \n",
      "  ---|---|---\n",
      "     |   |  \n",
      "\n",
      "  \n",
      "sabry: 3\n",
      "\n",
      "\n",
      "     | X | O\n",
      "  ---|---|---\n",
      "     |   |  \n",
      "  ---|---|---\n",
      "     |   |  \n",
      "\n",
      "  \n",
      "abdullah: 4\n",
      "\n",
      "\n",
      "     | X | O\n",
      "  ---|---|---\n",
      "   X |   |  \n",
      "  ---|---|---\n",
      "     |   |  \n",
      "\n",
      "  \n",
      "sabry: 5\n",
      "\n",
      "\n",
      "     | X | O\n",
      "  ---|---|---\n",
      "   X | O |  \n",
      "  ---|---|---\n",
      "     |   |  \n",
      "\n",
      "  \n",
      "abdullah: 6\n",
      "\n",
      "\n",
      "     | X | O\n",
      "  ---|---|---\n",
      "   X | O | X\n",
      "  ---|---|---\n",
      "     |   |  \n",
      "\n",
      "  \n",
      "sabry: 7\n",
      "\n",
      "\n",
      "     | X | O\n",
      "  ---|---|---\n",
      "   X | O | X\n",
      "  ---|---|---\n",
      "   O |   |  \n",
      "\n",
      "  \n",
      "the player sabry You WON Congratulation\n"
     ]
    },
    {
     "ename": "SystemExit",
     "evalue": "Thank you The game ended",
     "output_type": "error",
     "traceback": [
      "An exception has occurred, use %tb to see the full traceback.\n",
      "\u001b[1;31mSystemExit\u001b[0m\u001b[1;31m:\u001b[0m Thank you The game ended\n"
     ]
    },
    {
     "name": "stderr",
     "output_type": "stream",
     "text": [
      "C:\\Users\\abdala\\anaconda3\\lib\\site-packages\\IPython\\core\\interactiveshell.py:3445: UserWarning: To exit: use 'exit', 'quit', or Ctrl-D.\n",
      "  warn(\"To exit: use 'exit', 'quit', or Ctrl-D.\", stacklevel=1)\n"
     ]
    }
   ],
   "source": [
    "def main():\n",
    "  print(\"tic tac toe  created by abdullah \")\n",
    "  player_one = input(\"Enter player 1 name: \")\n",
    "  player_two = input(\"Enter player 2 name: \")\n",
    "  print(f\"the player {player_one} sign is  X\")\n",
    "  print(f\"the player {player_two} sign is  O\")\n",
    "  input(\"Enter any key to start the game: \")\n",
    "  print_board(sign)\n",
    "  for i in range(0,9):\n",
    "    if i%2 == 0:\n",
    "      index2 = take_input(player_one)\n",
    "      sign[index2] = 'X'\n",
    "    else:\n",
    "      index2 = take_input(player_two)\n",
    "      sign[index2] = 'O'\n",
    "\n",
    "    print_board(sign)\n",
    "    result_calculation( player_one, player_two)\n",
    "    \n",
    "  \n",
    "  print(\"The game is over and no one wins Play Again\")\n",
    "    \n",
    "    \n",
    "    \n",
    "main()"
   ]
  },
  {
   "cell_type": "code",
   "execution_count": null,
   "id": "f0c8405e",
   "metadata": {},
   "outputs": [],
   "source": []
  }
 ],
 "metadata": {
  "interpreter": {
   "hash": "18fe6ac8b6784932ff99c8d2a63f58f7b09915667d4582d06fa7e28cf23bca66"
  },
  "kernelspec": {
   "display_name": "Python 3",
   "language": "python",
   "name": "python3"
  },
  "language_info": {
   "codemirror_mode": {
    "name": "ipython",
    "version": 3
   },
   "file_extension": ".py",
   "mimetype": "text/x-python",
   "name": "python",
   "nbconvert_exporter": "python",
   "pygments_lexer": "ipython3",
   "version": "3.8.8"
  }
 },
 "nbformat": 4,
 "nbformat_minor": 5
}
